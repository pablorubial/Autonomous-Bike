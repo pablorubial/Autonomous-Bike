{
 "cells": [
  {
   "cell_type": "markdown",
   "metadata": {},
   "source": [
    "# Control de inclinación de una bicicleta mediante la actuación sobre la dirección\n",
    "Documento basado en el contenido de Urbano Lugrís https://github.com/ulugris/bike\n",
    "\n"
   ]
  },
  {
   "cell_type": "markdown",
   "metadata": {},
   "source": [
    "## Modelos dinámicos\n"
   ]
  },
  {
   "cell_type": "markdown",
   "metadata": {},
   "source": [
    "### Modelo de Whipple\n",
    "En lugar del modelo tan simplificado del péndulo invertido, podemos emplear un modelo un poco más complejo, llamado modelo de Whipple, que consta de 4 sólidos rígidos: el cuadro, el conjunto de la dirección (incluye horquilla delantera, manillar y todas las piezas que se mueven solidariamente con ellos), y las dos ruedas. Se asume que las ruedas tienen espesor nulo (ruedas de filo de cuchillo), y que tienen rodadura perfecta (no pueden deslizar, ni levantarse del suelo). \n",
    "\n",
    "![Modelo de Whipple](./images/whippleBike.png)\n",
    "\n",
    "Si hacemos un proceso parecido al del modelo anterior, se pueden llegar a obtener las ecuaciones del movimiento de este sistema. El sistema completo cuenta con tres coordenadas relevantes: el avance longitudinal, el ángulo de inclinación, y el ángulo de dirección. La parte del avance no nos interesa para realizar el control lateral, así que nos vamos a centrar en la parte lateral, en la que el ángulo de inclinación y el ángulo de dirección están acoplados.  Linealizando esta parte de la dinámica lateral, se obtienen las siguiente expresión: \n",
    "\n",
    "$$\n",
    "    \\mathbf{M\\ddot{q}} + v \\mathbf{C}_1 \\mathbf{\\dot{q}} + \\left[ g \\mathbf{K}_0 + v^2 \\mathbf{K}_2\\right]\\mathbf{q} = \\mathbf{f}\n",
    "$$\n",
    "\n",
    "En donde $\\mathbf{M}$ es la matriz de masas, $\\mathbf{q}= \\left[\\phi, \\delta \\right]^\\rm{T}$ es el vector de coordenadas del sistema, cuya primera coordenada, es el ángulo de roll, y la segunda, el ángulo de dirección (en este modelo $\\delta$ es equivalente al ángulo $u$ empleado en el modelo de péndulo invertido), $\\mathbf{\\dot{q}}$ y $\\mathbf{\\ddot{q}}$ son sus derivadas primera y segunda, respectivamente, $v$ es la velocidad longitudinal de la bicicleta, $g$ es el valor de la aceleración de la gravedad, y las matrices $\\mathbf{K}_0$, $\\mathbf{C}_1$ y $\\mathbf{K}_2$ son unas matrices que se comportan como matrices de rigidez y amortiguamiento. Por último, $\\mathbf{f}$ es el vector de fuerzas directamente aplicadas sobre las coordenadas. Es decir, en este caso, serían el par de roll (que consideraremos nulo) y el par aplicado sobre la dirección. El valor de las matrices de coeficientes $\\mathbf{M}$, $\\mathbf{K}_0$, $\\mathbf{C}_1$ y $\\mathbf{K}_2$ se calculan en función de 25 parámetros de la bicicleta (dimensiones, ángulo de dirección, momentos de inercia, etc.). Las expresiones para calcular estos parámetros, así como la deducción de las ecuaciones linealizadas se pueden encontrar en [6]. Si empleamos los datos de la bicicleta empleada en ese mismo artículo, podemos obtener el siguinete modelo: \n"
   ]
  },
  {
   "cell_type": "markdown",
   "metadata": {
    "tags": []
   },
   "source": [
    "#### Modelo de Whipple en forma *state-space*\n",
    "\n",
    "Podemos manipular la ecuación anterior para ponerla en forma *state-space*. Para ello, cambiamos las variables de forma que podamos expresar el sistema original en forma de sistema de primer orden. Si, como en el caso anterior, llamamos $\\mathbf{x}$ a nuestros estados, podemos decir que: \n",
    "\n",
    "$$ \\mathbf{x}  = \\begin{bmatrix}\n",
    "\\phi\\\\ \\delta \\\\ \\dot{\\phi} \n",
    "\\end{bmatrix} $$\n",
    "\n",
    "Por lo tanto, \n",
    "\n",
    "$$ \\mathbf{\\dot{x}} = \\begin{bmatrix}\n",
    "\\dot{\\phi} \\\\ \\dot{\\delta} \\\\ \\ddot{\\phi} \n",
    "\\end{bmatrix} $$\n",
    "\n",
    "Recordando que la forma *state-space* que buscamos es la misma que en el caso anterior, con la forma siguiente: \n",
    "\n",
    "$$\n",
    "    \\begin{align}\n",
    "        & \\dot{\\mathbf x}=\\mathbf{Ax}+\\mathbf{B}u \\\\\n",
    "        & y = \\mathbf{Cx} + Du\n",
    "    \\end{align}\n",
    "$$\n",
    "\n",
    "Roerdenando las ecuaciones linealizadas del movimiento, podemos escribir lo siguiente: \n",
    "\n",
    "$$\n",
    "\\begin{bmatrix} \\mathbf{\\dot{\\phi}} \\\\ \\mathbf{\\dot{\\delta}} \\\\ \\mathbf{\\ddot{\\phi}} \\end{bmatrix} = \n",
    "\\begin{bmatrix} \\mathbf{0}_{2\\times 2} & \\mathbf{I}_{2\\times 1} \\\\ -\\mathbf{M}^{-1}\\left[v^2\\mathbf{K}_2 +g\\mathbf{K}_0 \\right] & -\\mathbf{M}^{-1}v\\mathbf{C}_1 \\end{bmatrix}\n",
    "\\begin{bmatrix} \\mathbf{{\\phi}} \\\\ \\mathbf{{\\delta}} \\\\ \\mathbf{\\dot{\\phi}} \\end{bmatrix} + \n",
    "\\begin{bmatrix} 0 & 1 & 0 \\end{bmatrix}^{\\rm{T}}\n",
    "\\dot{\\delta}\n",
    "$$\n",
    "\n",
    "En donde $T_{\\delta}$ es el par aplicado a la dirección. Identificado términos en esta ecuación, ya se ve que esto se puede expresar como $\\dot{\\mathbf x}=\\mathbf{Ax}+\\mathbf{B}u $\n",
    "\n",
    "Como la cantidad a controlar es el ángulo de roll, la ecuación de la salida (*output*) quedaría de la siguiente forma: \n",
    "\n",
    "$$\n",
    "y = \\begin{bmatrix} 1 &0 &0  \\end{bmatrix}\\mathbf{x} + \\begin{bmatrix} 0 \\end{bmatrix} u\n",
    "$$\n",
    "\n",
    "Así que, identificando términos, podemos ver que las matrices $\\mathbf{C}$ y $\\mathbf{D}$ resultan: \n",
    "\n",
    "$$ \n",
    "    \\begin{align}\n",
    "        &\\mathbf{C} = \\begin{bmatrix} 1 &0 &0  \\end{bmatrix}\\\\\n",
    "        &\\mathbf{D} = \\begin{bmatrix} 0 \\end{bmatrix}\n",
    "    \\end{align}\n",
    "$$\n",
    "    \n",
    "    "
   ]
  },
  {
   "cell_type": "code",
   "execution_count": 3,
   "metadata": {},
   "outputs": [
    {
     "name": "stdout",
     "output_type": "stream",
     "text": [
      "[[3.23539172 0.21209065]\n",
      " [0.21209065 0.07431033]]\n",
      "[[-7.11818    -0.43652213]\n",
      " [-0.43652213 -0.13921987]]\n",
      "[[0.         6.87387868]\n",
      " [0.         0.4706314 ]]\n",
      "[[ 0.          3.56526808]\n",
      " [-0.31016046  0.3787769 ]]\n",
      "[[ 0.          0.          1.          0.        ]\n",
      " [ 0.          0.          0.          1.        ]\n",
      " [21.90338199 -8.26532049 -0.6731676  -1.88907755]\n",
      " [-4.88788609 16.63589059 10.26900934 -4.80280621]]\n",
      "[[ 0.          0.          1.        ]\n",
      " [ 0.          0.          0.        ]\n",
      " [21.90338199 -8.26532049 -0.6731676 ]]\n"
     ]
    }
   ],
   "source": [
    "import numpy as np\n",
    "\n",
    "v = 2 #Velocidad en m/s\n",
    "g = 9.81  # Aceleración de la gravedad en m/s2\n",
    "M = np.array([[3.23539172,0.21209065], [0.21209065,0.07431033]])\n",
    "#Mostramos el contenido de la matriz de masas del sistema\n",
    "print(M)\n",
    "invM = np.linalg.inv(M) # Inverse of the mass matrix\n",
    "#invM = invM[:1]\n",
    "K0 = np.array([[-7.11818,-0.43652213],[-0.43652213,-0.13921987]])\n",
    "print(K0)\n",
    "K2 = np.array([[0.,6.87387868],[0.,0.4706314]])\n",
    "print(K2)\n",
    "C1 = np.array([[0.,3.56526808],[-0.31016046,0.3787769]])\n",
    "print(C1)\n",
    "\n",
    "# Formatting as state-space\n",
    "A = np.block([[np.zeros((2,2)), np.eye(2)], [-invM@(v**2*K2+g*K0), -v*invM@C1]])\n",
    "print(A)\n",
    "A = A[0:3,0:3]\n",
    "print(A)\n",
    "B = np.array([[0.0], [1.0], [0.0]])\n",
    "C = np.array([1.0, 0.0, 0.0])\n",
    "D = np.array([0.0])\n",
    "\n"
   ]
  },
  {
   "cell_type": "markdown",
   "metadata": {},
   "source": [
    "# Diseño del controlador\n",
    "\n",
    "## Estabilidad del sistema\n",
    "\n",
    "En la bibliografía sobre Control es frecuente referirse al sistema que queremos controlar, de modo general, como *planta*. Cuando no hay realimentación, el sistema se conoce como *planta en lazo abierto*. Si consideramos el sistema libre, sin introducir ningún *input*, resultará una ecuación diferencial de la forma:\n",
    "\n",
    "$$\n",
    "    \\dot{\\mathbf x} = \\mathbf A\\mathbf x\n",
    "$$\n",
    "\n",
    "Se dice que un sistema es *asintóticamente estable* si, para unas condiciones iniciales cualesquiera, el vector de estados $\\mathbf x$ tiende a cero cuando el tiempo tiende a infinito. Se puede demostrar que la solución de un sistema de este tipo es estable cuando todos los autovalores de $\\mathbf A$ tienen parte real negativa. Como se puede ver, nuestro sistema no es estable, ya que tiene un autovalor con parte real positiva:"
   ]
  },
  {
   "cell_type": "code",
   "execution_count": 4,
   "metadata": {
    "tags": []
   },
   "outputs": [
    {
     "name": "stdout",
     "output_type": "stream",
     "text": [
      "[ 4.35560872 -5.02877632  0.        ]\n"
     ]
    }
   ],
   "source": [
    "# Comprobamos los autovalores de 'A'\n",
    "print(np.real(np.linalg.eig(A)[0]))"
   ]
  },
  {
   "cell_type": "markdown",
   "metadata": {},
   "source": [
    "## Primera aproximación: regulador PID\n",
    "\n",
    "Cuando no se dispone de un modelo dinámico del sistema, la forma más simple de estabilizarlo es utilizando un regulador PID. En este caso, se podría utilizar un PID en el que la entrada fuese el error entre el ángulo de inclinación deseado y el real, y la salida el ángulo de dirección o el par aplicado a la dirección. En general, lo que hay que hacer para estabilizar una bicicleta es girar el manillar en la dirección de la caída ([*steer into the fall*](https://youtu.be/o7nSQ2ycGX4)).\n",
    "\n",
    "El problema de utilizar este tipo de controladores es que suelen ser difíciles de ajustar, por lo que, si es posible, es mejor recurrir a métodos más avanzados, como la realimentación de estados, que se describe a continuación.\n"
   ]
  },
  {
   "cell_type": "markdown",
   "metadata": {},
   "source": [
    "## Estabilización mediante realimentación de estados\n",
    "\n",
    "La realimentación de estados se basa en definir la entrada del sistema $u$ como una realimentación negativa del estado, de la siguiente forma:\n",
    "\n",
    "$$\n",
    "    u = -\\mathbf K\\mathbf x\n",
    "$$\n",
    "\n",
    "Con este tipo de realimentación, se puede determinar de forma analítica una matriz de ganancias $\\mathbf K$ que estabilice el sistema, es decir, que haga que todos los autovalores sean negativos. Para verlo más claramente, se puede introducir la realimentación en las ecuaciones del sistema:\n",
    "\n",
    "$$\n",
    "    \\dot{\\mathbf x} = \\mathbf{Ax} - \\mathbf{BKx} = \\left(\\mathbf A - \\mathbf{BK}\\right)\\mathbf x\n",
    "$$\n",
    "\n",
    "Se observa que, ahora, la estabilidad del sistema la determinan los autovalores de $\\mathbf A - \\mathbf{BK}$. Esto significa que se puede alterar la dinámica del sistema a conveniencia, ajustando la matriz $\\mathbf K$ para colocar los autovalores donde nos interese. Este método de control se puede esquematizar de la forma siguiente:\n",
    "\n",
    "![Diagrama de bloques](./images/Figure3.png)"
   ]
  },
  {
   "cell_type": "markdown",
   "metadata": {},
   "source": [
    "## Regulador cuadrático lineal (LQR)\n",
    "\n",
    "El esquema de control de realimentación de estados deja abierta una decisión complicada al diseñador: ¿dónde colocar los autovalores del sistema? Existen diversos métodos descritos en la bibliografía, dedicados a determinar dónde se deben colocar los autovalores para conseguir que la respuesta del sistema presente unas características determinadas. Estas técnicas se denominan *asignación de polos* o *pole placement*.\n",
    "\n",
    "En nuestro proyecto, vamos a utilizar un método un poco más elaborado, pero a la vez sencillo de utilizar: el LQR (*Linear Quadratic Regulator*). El LQR no es más que otro método para calcular la matriz $\\mathbf K$, pero en lugar de tener que decidir dónde colocamos los polos del sistema, lo que hacemos es buscar el valor único de $\\mathbf K$ que minimiza la siguiente función:\n",
    "\n",
    "$$\n",
    "    J = \\int_0^\\infty\\left(\\mathbf x^T\\mathbf Q\\mathbf x + Ru^2\\right)dt\n",
    "$$\n",
    "\n",
    "Esta función (expresada aquí en forma específica para un sistema con un solo *inupt*) combina los valores cuadráticos, integrados a lo largo del tiempo, de las dos magnitudes que queremos minimizar: el error en los estados y la magnitud de la entrada de control. Cada término va ponderado por una matriz de pesos, $\\mathbf Q$ para los estados y $R$ para el *input*, de modo que podemos decidir qué variables queremos penalizar más en el controlador. Por ejemplo, asignar un valor elevado al elemento $Q_{ii}$ de la diagonal de $\\mathbf Q$ hará que los errores en el estado $x_i$ sean fuertemente penalizados en la función objetivo $J$, así que el controlador se esforzará en manternerlos bajos. Por el contrario, si se hace lo mismo con $R$, se indica al controlador que debe utilizar lo menos posible el actuador correspondiente al *input* $u$.\n",
    "\n",
    "Modificando los elementos de $\\mathbf Q$ y $R$ se puede ajustar el comportamiento del controlador a nuestros requerimientos, dando mayor relevancia al error en los estados o al esfuerzo de control. Lo primero puede ser importante si en algún estado es crítico mantener errores bajos, y lo segundo, por ejemplo, si es prioritario obtener una alta eficiencia energética, aunque sea al coste de menor precisión en el control. En nuestro caso, se podría utilizar para evitar que el controlador use ángulos de dirección demasiado grandes.\n",
    "\n",
    "Una vez dererminadas las matrices de pesos, la función `lqr` del módulo de control de Python resuelve el problema de optimización y nos devuelve directamente la matriz de ganancias $\\mathbf K$ que minimiza la función $J$:"
   ]
  },
  {
   "cell_type": "code",
   "execution_count": 5,
   "metadata": {},
   "outputs": [
    {
     "name": "stdout",
     "output_type": "stream",
     "text": [
      "[[-40.88312642  11.52360588  -7.97267889]]\n"
     ]
    }
   ],
   "source": [
    "from control import ss, lqr, ss2tf, minreal, forced_response\n",
    "\n",
    "sys = ss(A, B, C, D)\n",
    "\n",
    "Q = np.eye(3) # Aproximación incial para 'Q'\n",
    "Q[0, 0] = 100 # Ajustamos peso del ángulo 'phi'\n",
    "R = 1 # Peso del par de dirección 'u'\n",
    "K = lqr(sys, Q, R)[0]\n",
    "\"Mostramos el valor de K\"\n",
    "print(K)\n"
   ]
  },
  {
   "cell_type": "markdown",
   "metadata": {},
   "source": [
    "Para evaluar el comportamiento del regulador, se simula el comportamiento del sistema cuando partimos de un estado inicial fuera de equilibrio. Por ejemplo, colocamos la moto con un ángulo inicial $\\phi_0$ de 20º, mientras circula en línea recta a la velocidad prefijada $v$ (10 m/s), de modo que el controlador generará un movimiento de dirección que la estabilice en vertical.\n",
    "\n",
    "La entrada de referencia $r$ que se ve en el diagrama del controlador se dejará a cero (se explicará más adelante para qué sirve esta entrada). Como ejercicio, es interesante comprobar cómo varía la repuesta al modificar los pesos del LQR:"
   ]
  },
  {
   "cell_type": "code",
   "execution_count": 6,
   "metadata": {},
   "outputs": [],
   "source": [
    "%%capture\n",
    "from matplotlib.animation import FuncAnimation\n",
    "import plotfunctions as pf"
   ]
  },
  {
   "cell_type": "code",
   "execution_count": 7,
   "metadata": {},
   "outputs": [],
   "source": [
    "# Ensamblamos el sistema en lazo cerrado\n",
    "clsys = ss(A - B@K, B, C, D)\n",
    "\n",
    "\n",
    "tf = 10.00         # Duración de la simulación en segundos\n",
    "dt = 0.01         # Paso de tiempo de simulación en segundos\n",
    "\n",
    "# Simulamos respuesta para ángulo incial de 20 grados\n",
    "t = np.arange(0, tf, dt)\n",
    "r = np.zeros(t.shape)\n",
    "\n",
    "T, Y, X = forced_response(clsys, t, r, X0=[np.radians(20), 0, 0], return_x=True)\n",
    "\n",
    "#pf.plot_response(T, X)\n"
   ]
  },
  {
   "cell_type": "markdown",
   "metadata": {},
   "source": [
    "Como se ve, el ángulo $\\varphi$ converge rápidamente a cero, estabilizando el sistema.\n",
    "\n",
    "Podemos verificar que, al aplicar la realimentación, todos los autovalores del sistema tienen ahora parte real negativa:"
   ]
  },
  {
   "cell_type": "code",
   "execution_count": 8,
   "metadata": {},
   "outputs": [
    {
     "name": "stdout",
     "output_type": "stream",
     "text": [
      "[-3.17478983 -3.17478983 -5.84719381]\n"
     ]
    }
   ],
   "source": [
    "print(np.real(np.linalg.eig(A - B@K)[0]))"
   ]
  },
  {
   "cell_type": "markdown",
   "metadata": {},
   "source": [
    "A continuación se muestra una animación con el movimiento resultante:"
   ]
  },
  {
   "cell_type": "code",
   "execution_count": 9,
   "metadata": {},
   "outputs": [],
   "source": [
    "h = 1.0 # This value is only used for graphical purposes\n",
    "#FuncAnimation(pf.fg1, pf.anim, init_func=pf.init, frames=len(T), fargs=(X[[0, 1]], dt, h), interval=dt*1000, blit=True)\n"
   ]
  },
  {
   "cell_type": "markdown",
   "metadata": {},
   "source": [
    "## Control de la inclinación\n",
    "\n",
    "Cuando se aplica realimentación de estados, el controlador resultante siempre tratará de llevarlos todos al equilibrio, y eso es lo que se conoce como *regulador*. Hasta ahora, esto nos ha servido para estabilizar el sistema, manteniéndolo equilibrado en vertical. Si lo que queremos es asignar a algún *output* un valor arbitrario, hay que convertir nuestro regulador en un *servomecanismo*. El objetivo ahora es conseguir que el *output* (en nuestro caso el ángulo de inclinación $\\varphi$) siga a un valor de referencia $r$, en lugar de converger hacia cero. De este modo, podremos controlar la dirección de la moto sin perder la estabilidad, ya que controlar el ángulo de inclinación implica controlar indirectamente el radio de curvatura de la trayectoria.\n",
    "\n",
    "Antes de explicar cómo se consigue esto, es importante introducir un nuevo concepto: el *tipo* de sistema o planta. Por definición, una planta es de tipo $N$ cuando, al representarla como un sistema con realimentación unitaria (como el que se muestra en la figura), el término de grado más bajo del denominador de la función de transferencia $G$ es de grado $N$.\n",
    "\n",
    "![Realimentación unitaria](./images/Figure4.png)\n",
    "\n",
    "Es decir, si la función de transferencia en lazo abierto $G$ se escribe en la forma:\n",
    "\n",
    "$$\n",
    "    G(s) = \\frac{K\\left(T_as + 1\\right)\\left(T_bs + 1\\right)\\cdots\\left(T_ms + 1\\right)}\n",
    "    {s^N\\left(T_1s + 1\\right)\\left(T_2s + 1\\right)\\cdots\\left(T_ps + 1\\right)}\n",
    "$$\n",
    "\n",
    "el tipo de sistema corresponderá al exponente $N$ que aparece en el denominador. El tipo de un sistema determina su error de seguimiento $e$ en régimen permanente para distintos tipos de entrada. Por ejemplo, en un sistema tipo 1, el error tenderá a cero para una entrada escalón, a un valor finito para una entrada rampa, y a infinito para una entrada cuadrática o de orden superior. En cambio, un sistema tipo 0 ya mostrará un error finito en régimen permanente para una entrada escalón, y será inestable frente a una entrada rampa o superior.\n",
    "\n",
    "Para saber el tipo de nuestro sistema, primero tenemos que representarlo según la estructura de la figura. La función de transferencia $H$ del sistema completo, entre la entrada $r$ y la salida $y$, se puede obtener sustituyendo el error de seguimiento $e$ por su valor $r - y$:\n",
    "\n",
    "$$\n",
    "    y = G\\left(r - y\\right) \\implies H(s) = \\frac{y}{r} = \\frac{G}{1 + G}\n",
    "$$\n",
    "\n",
    "Entonces, se puede hacer el cambio inverso para expresar cualquier sistema con función de transferencia $H$ como sistema con realimentación unitaria:\n",
    "\n",
    "$$\n",
    "    G(s) = \\frac{H}{1 - H}\n",
    "$$\n",
    "\n",
    "Comprobamos el tipo de nuestro sistema, incluyendo la realimentación, cuando consideramos que nuestro único *output* es la inclinación. La función `ss2tf` devuelve la función de transferencia $H$ de un sistema *state-space*, y `minreal` (*minimal realization*) cancela los factores comunes del numerador y el denominador:"
   ]
  },
  {
   "cell_type": "code",
   "execution_count": 10,
   "metadata": {},
   "outputs": [
    {
     "name": "stdout",
     "output_type": "stream",
     "text": [
      "3 states have been removed from the model\n"
     ]
    },
    {
     "data": {
      "text/latex": [
       "$$\\frac{-8.265}{s^3 + 12.2 s^2 + 51.75 s + 93.77}$$"
      ],
      "text/plain": [
       "TransferFunction(array([-8.26532049]), array([ 1.        , 12.19677347, 51.75068225, 93.77152156]))"
      ]
     },
     "execution_count": 10,
     "metadata": {},
     "output_type": "execute_result"
    }
   ],
   "source": [
    "# Función de transferencia del sistema con realimentación\n",
    "H = ss2tf(clsys)\n",
    "\n",
    "# Calculamos G para transformar en sistema con realimentación unitaria\n",
    "minreal(H/(1 - H))"
   ]
  },
  {
   "cell_type": "markdown",
   "metadata": {},
   "source": [
    "Mirando el denominador, se ve claramente que nuestro sistema realimentado es de tipo 0. Eso significa que, para una entrada escalón, la salida $\\varphi$ nunca alcanzará el valor de referencia $r$ en régimen permanente. Si queremos controlar la inclinación correctamente, tendremos que convertir el sistema en uno de tipo 1."
   ]
  },
  {
   "cell_type": "markdown",
   "metadata": {},
   "source": [
    "## Servomecanismo tipo 1 con integrador en la entrada\n",
    "\n",
    "El problema de usar precompensación es que la respuesta es muy sensible a errores en los parámetros del sistema. Cualquier desviación en el valor de $\\bar N$ hará que el sistema vuelva a ser de tipo 0, y por lo tanto tenga error en régimen permanente. La manera de resolver esto de forma más robusta es añadir a la entrada un integrador, en lugar de una simple ganancia:\n",
    "\n",
    "![Diagrama con integral](./images/Figure6.png)\n",
    "\n",
    "Para utilizar este esquema de control, hay que aumentar el sistema añadiéndole un estado adicional $\\xi$, que será la integral del error de seguimiento $r - y$. Por lo tanto, su derivada es:\n",
    "\n",
    "$$\n",
    "    \\dot\\xi = r - y = r - \\left(\\mathbf{Cx} + Du\\right)\n",
    "$$\n",
    "\n",
    "y la entrada $u$ pasa a ser ahora:\n",
    "\n",
    "$$\n",
    "    u = -\\mathbf K \\mathbf x + k_I\\xi\n",
    "$$\n",
    "\n",
    "La ecuación completa de la dinámica del sistema aumentado, sin incluir la realimentación, se puede escribir como:\n",
    "\n",
    "$$\n",
    "    \\begin{bmatrix} \\dot{\\mathbf x} \\\\ \\dot\\xi \\end{bmatrix} = \n",
    "    \\begin{bmatrix} \\mathbf A && \\mathbf 0 \\\\ -\\mathbf C && 0 \\end{bmatrix}\n",
    "    \\begin{bmatrix} \\mathbf{x} \\\\ \\xi\\end{bmatrix} + \n",
    "    \\begin{bmatrix} \\mathbf B \\\\ -D \\end{bmatrix}u + \n",
    "    \\begin{bmatrix} \\mathbf 0 \\\\ 1 \\end{bmatrix}r\n",
    "$$\n",
    "\n",
    "Estudiaremos la respuesta de este sistema a una entrada escalón, cuando el tiempo tiende a infinito. Para ello, definiremos las siguientes magnitudes:\n",
    "\n",
    "$$\n",
    "    \\mathbf e = \\begin{bmatrix} \\mathbf{x} - \\mathbf{x}_\\infty \\\\ \\xi - \\xi_\\infty \\end{bmatrix} \\qquad\n",
    "    u_e = u - u_\\infty\n",
    "$$\n",
    "\n",
    "que representan las desviaciones del estado y la entrada respecto sus propios valores en régimen permanente. Como $r$ es un escalón, su valor es siempre el mismo para $t>0$, de forma que podemos escribir la dinámica del error como:\n",
    "\n",
    "$$\n",
    "    \\dot{\\mathbf e} = \n",
    "    \\begin{bmatrix} \\mathbf A && \\mathbf 0 \\\\ -\\mathbf C && 0 \\end{bmatrix}\n",
    "    \\mathbf e + \n",
    "    \\begin{bmatrix} \\mathbf B \\\\ -D \\end{bmatrix}u_e = \\hat{\\mathbf A}\\mathbf e + \\hat{\\mathbf B}u_e\n",
    "$$\n",
    "\n",
    "Se puede observar que, de forma análoga a lo que ocurría al principio, tenemos un sistema en forma *state-space* cuyos estados tienen que converger asintóticamente a cero. Eso quiere decir que existirán unas ganancias de realimentación $\\hat{\\mathbf K}$ que estabilicen el sistema:\n",
    "\n",
    "$$\n",
    "    \\hat{\\mathbf K} = \\begin{bmatrix} \\mathbf K && -k_I \\end{bmatrix}\n",
    "$$\n",
    "\n",
    "Estas ganancias se pueden calcular, como antes, utilizando el algoritmo LQR, sabiendo que ahora tenemos cinco estados, ya que el último corresponde a la integral del error de seguimiento:"
   ]
  },
  {
   "cell_type": "code",
   "execution_count": 19,
   "metadata": {
    "tags": []
   },
   "outputs": [
    {
     "name": "stdout",
     "output_type": "stream",
     "text": [
      "[[-42.00608109  11.2513673   -8.66057382  10.        ]]\n",
      "[-42.00608109  11.2513673   -8.66057382]\n",
      "-9.99999999999802\n"
     ]
    }
   ],
   "source": [
    "from control import ss, lqr, ss2tf, minreal, forced_response\n",
    "import numpy as np\n",
    "\n",
    "v = 2 #Velocidad en m/s\n",
    "\n",
    "g = 9.81  # Aceleración de la gravedad en m/s2\n",
    "\n",
    "M = np.array([[4.08597824,0.22498754], [0.22498754,0.07474757]])\n",
    "\n",
    "invM = np.linalg.inv(M) # inverse of the mass matrix\n",
    "\n",
    "K0 = np.array([[-7.70539504,-0.3469105],[-0.3469105,-0.11064006]])\n",
    "\n",
    "K2 = np.array([[0., 7.31520562],[0, 0.36611993]])\n",
    "\n",
    "C1 = np.array([[ 0., 3.91165444],[-0.23658889, 0.27557226]])\n",
    "\n",
    "\n",
    "# Formatting as state-space\n",
    "A = np.block([[np.zeros((2,2)), np.eye(2)], [-invM@(v**2*K2+g*K0), -v*invM@C1]])\n",
    "A = A[0:3,0:3]\n",
    "B = np.array([[0.0], [1.0], [0.0]])\n",
    "C = np.array([1.0, 0.0, 0.0])\n",
    "D = np.array([0.0])\n",
    "\n",
    "\n",
    "\n",
    "\n",
    "# Ecuaciones del sistema con los errores como estados\n",
    "# Se añade la integral del error en ángulo como quinto estado\n",
    "Ah = np.block([[A, np.zeros((3, 1))], [-C, 0]])\n",
    "Bh = np.block([[B], [-D]])\n",
    "\n",
    "# Controlador LQR para la dinámica del error\n",
    "Q = np.zeros((4,4))  # Aproximación inicial para 'Q'\n",
    "Q[0, 0] = 10  # Ajustamos peso del ángulo 'phi' ángulo de inclinación\n",
    "Q[1, 1] = 1 # Ajustamos peso del ángulo de dirección\n",
    "Q[2, 2] = 0 # Velocidad de ángulo de inclinación\n",
    "Q[3, 3] = 100  # Peso de la integral del error en velocidad 'xi'\n",
    "R = 1 # Peso del ángulo de dirección 'u', meterle 50 en la segunda simulación IIoT\n",
    "\n",
    "\n",
    "# La función 'LQR' también admite usar sólo las matrices A y B\n",
    "Kh = lqr(Ah, Bh, Q, R)[0]\n",
    "print(Kh)\n",
    "Kn = Kh[0, :-1]\n",
    "print(Kn)\n",
    "Ki = -Kh[0, -1]\n",
    "print(Ki)"
   ]
  },
  {
   "cell_type": "markdown",
   "metadata": {},
   "source": [
    "Para simular el sistema, utilizaremos un modelo aumentado de la siguiente forma, que se obtiene al sustituir en la ecuación del sistema el valor de $u$:\n",
    "\n",
    "$$\n",
    "    \\begin{bmatrix} \\dot{\\mathbf x} \\\\ \\dot\\xi \\end{bmatrix} = \n",
    "    \\begin{bmatrix} \\mathbf A - \\mathbf{BK} && \\mathbf Bk_I \\\\ D\\mathbf K - \\mathbf C && -Dk_I \\end{bmatrix}\n",
    "    \\begin{bmatrix} \\mathbf{x} \\\\ \\xi\\end{bmatrix} + \n",
    "    \\begin{bmatrix} \\mathbf 0 \\\\ 1 \\end{bmatrix}r\n",
    "$$\n",
    "\n",
    "Antes de simular, verificamos que este sistema es de tipo 1:"
   ]
  },
  {
   "cell_type": "code",
   "execution_count": 20,
   "metadata": {},
   "outputs": [
    {
     "name": "stdout",
     "output_type": "stream",
     "text": [
      "4 states have been removed from the model\n"
     ]
    },
    {
     "data": {
      "text/latex": [
       "$$\\frac{72.51}{s^4 + 11.67 s^3 + 48.33 s^2 + 88.89 s}$$"
      ],
      "text/plain": [
       "TransferFunction(array([72.50862864]), array([ 1.        , 11.6691857 , 48.32758921, 88.8908107 ,  0.        ]))"
      ]
     },
     "execution_count": 20,
     "metadata": {},
     "output_type": "execute_result"
    }
   ],
   "source": [
    "# Sistema en lazo cerrado con las ganancias obtenidas\n",
    "An = np.block([[A - B*Kn, B*Ki], [D*Kn - C, -D*Ki]])\n",
    "Bn = [[0], [0], [0], [1]]\n",
    "Cn = [1, 0, 0, 0]\n",
    "Dn = 0\n",
    "\n",
    "clisysint = ss(An, Bn, Cn, Dn)\n",
    "\n",
    "# Función de transferencia del sistema con realimentación\n",
    "H = ss2tf(clisysint)\n",
    "\n",
    "# Calculamos G(s) para sistema con realimentación unitaria\n",
    "minreal(H/(1 - H))"
   ]
  },
  {
   "cell_type": "markdown",
   "metadata": {},
   "source": [
    "Para comprobar que este método es mucho más robusto que la precompensación, se puede hacer una prueba sencilla. En el modelo con precompensación, si antes de ensamblar el sistema *state-space* se simula un error en los parámetros del modelo multiplicando $\\bar N$ por un factor, por ejemplo 0.9, se verá que el sistema pasa a ser tipo 0, incluso con valores del factor muy cercanos a la unidad. En cambio, si se hace lo mismo con $k_I$, se observa que el término de grado 0 del denominador se mantiene cercano a cero para cualquier valor de $k_I$.\n",
    "\n",
    "A continuación se muestra gráficamente la respuesta, comparándola con la obtenida usando precompensación (en línea de puntos). Igual que antes, es interesante probar diferentes pesos en el LQR, para ver cómo varía el comportamiento del sistema."
   ]
  },
  {
   "cell_type": "code",
   "execution_count": 21,
   "metadata": {},
   "outputs": [],
   "source": [
    "# Respuesta con misma entrada que en el modelo con precompensación\n",
    "#T, Y, Xn = forced_response(clisysint, t, r,return_x=True)\n",
    "\n",
    "#pf.plot_response(T, Xn, X)"
   ]
  },
  {
   "cell_type": "markdown",
   "metadata": {},
   "source": [
    "Antes de implementar el controlador, hay que asegurarse de que no estamos saturando el actuador:"
   ]
  },
  {
   "cell_type": "code",
   "execution_count": 22,
   "metadata": {},
   "outputs": [],
   "source": [
    "#pf.plot_steering_torque(T, (Ki*Xn[3, :] - Kn@Xn[:3, :]).T)"
   ]
  },
  {
   "cell_type": "markdown",
   "metadata": {},
   "source": [
    "Vemos que los pares aplicados en la dirección se mantienen dentro de valores mucho más realistas. Como siempre, es interesante ver cómo afectan los pesos del LQR, buscando un equilibrio entre una respuesta rápida (pero más brusca) y un comportamiento suave (pero más lento).\n",
    "\n",
    "A continuación se muestra una animación del nuevo movimiento:"
   ]
  },
  {
   "cell_type": "code",
   "execution_count": 23,
   "metadata": {},
   "outputs": [],
   "source": [
    "#FuncAnimation(pf.fg1, pf.anim, init_func=pf.init, frames=len(T), fargs=(Xn[[0, 2]], dt, h), interval=dt*1000, blit=True)"
   ]
  },
  {
   "cell_type": "markdown",
   "metadata": {},
   "source": [
    "Como todo es correcto, ya podemos utilizar las ganancias para la implementación física del controlador. Se pueden copiar y pegar directamente en un sketch de Arduino, siendo ahora el par de dirección $u= -\\mathbf{Kx} + k_I\\xi$. Esto significa que, además de los estados anteriores, habrá que ir calculando la integral del error de inclinación, que no es más que ir acumulando en una variable dicho error $\\xi = r - \\phi$, multiplicado por el paso de tiempo."
   ]
  },
  {
   "cell_type": "code",
   "execution_count": 24,
   "metadata": {},
   "outputs": [
    {
     "name": "stdout",
     "output_type": "stream",
     "text": [
      "const float K1 =-42.006081;  // Ganancia phi\n",
      "const float K2 = 11.251367;  // Ganancia delta\n",
      "const float K3 = -8.660574;  // Ganancia phip\n",
      "const float Ki =-10.000000;  // Ganancia integral\n"
     ]
    }
   ],
   "source": [
    "print('const float K1 =%10.6f;  // Ganancia phi'      % Kn[0])\n",
    "print('const float K2 =%10.6f;  // Ganancia delta'    % Kn[1])\n",
    "print('const float K3 =%10.6f;  // Ganancia phip'     % Kn[2])\n",
    "print('const float Ki =%10.6f;  // Ganancia integral' % Ki)"
   ]
  },
  {
   "cell_type": "markdown",
   "metadata": {},
   "source": [
    "## Simulación del sistema completo con el controlador\n",
    "Se reconstruye el sistema original, y se emplea el controlador obtenido para simular el modelo de Wipple completo, usando un integrador Forward Euler, con un paso de tiempo de 1 ms. A su vez, se comprueba también como evoluciona el par requerido a lo largo de la simulación y la potencia del motor necesaria.\n"
   ]
  },
  {
   "cell_type": "markdown",
   "metadata": {},
   "source": [
    "Se introducen variaciones en los parámetros para ver como de robusto es el controlador:\n"
   ]
  },
  {
   "cell_type": "markdown",
   "metadata": {},
   "source": [
    "Se comprueba el ángulo de inclinación durante la maniobra\n"
   ]
  },
  {
   "cell_type": "code",
   "execution_count": 25,
   "metadata": {},
   "outputs": [
    {
     "data": {
      "text/plain": [
       "Text(0, 0.5, '$\\\\phi$ (deg)')"
      ]
     },
     "execution_count": 25,
     "metadata": {},
     "output_type": "execute_result"
    },
    {
     "data": {
      "image/png": "[encoded data removed]",
      "text/plain": [
       "<Figure size 432x288 with 1 Axes>"
      ]
     },
     "metadata": {
      "needs_background": "light"
     },
     "output_type": "display_data"
    }
   ],
   "source": [
    "from matplotlib import pyplot as plt\n",
    "import numpy as np\n",
    "\n",
    "v = 4 #Velocidad en m/s\n",
    "g = 9.81  # Aceleración de la gravedad en m/s2\n",
    "\n",
    "#M = np.array([[4.08597824,0.22498754], [0.22498754,0.07474757]])\n",
    "invM = np.linalg.inv(M) # inverse of the mass matrix\n",
    "#K0 = np.array([[-7.70539504,-0.3469105],[-0.3469105,-0.11064006]])\n",
    "#K2 = np.array([[0., 7.31520562],[0, 0.36611993]])\n",
    "#C1 = np.array([[ 0., 3.91165444],[-0.23658889, 0.27557226]])\n",
    "\n",
    "# Formatting as state-space\n",
    "A = np.block([[np.zeros((2,2)), np.eye(2)], [-invM@(v**2*K2+g*K0), -v*invM@C1]])\n",
    "B = np.array([[0.0], [0.0], [0.0], [1/M[1,1]]])\n",
    "C = np.array([1.0, 0.0, 0.0, 0.0])\n",
    "D = np.array([0.0])\n",
    "\n",
    "\n",
    "dt = 0.001\n",
    "tfin = 100\n",
    "timevec = np.arange(0,tfin,dt)\n",
    "L = timevec.shape[0] # Size of the time vector\n",
    "ref = np.zeros([L,1]) #Referencias de cada paso, vector columna con un número de filas igual a L.\n",
    "ref[L//4:-L//4] = -25*(np.pi/180)\n",
    "\n",
    "# Condiciones iniciales\n",
    "\n",
    "x = np.zeros((4,L)) # Vector para guardar los estados\n",
    "u_torque = np.zeros((1,L))\n",
    "x[1,0] = 0.01 # Perturbación inicial en este caso de velocidad de ángulo de Roll\n",
    "xi = 0\n",
    "torque_max = 6 # Par máximo del motor(N·m) en caso de que se alcanzase\n",
    "k = 10\n",
    "\n",
    "for i in range(1,L):\n",
    "    xi = xi+ (ref[i]-x[0,i-1])*dt # Error integrado\n",
    "    u_vel = -Kn@x[0:3,i-1] + Ki*xi # Entrada en velocidad\n",
    "    u_torque[0,i-1] = k*(u_vel-x[3,i-1])# Controlador proporcional\n",
    "    xp = A@x[:,i-1:i]+B*u_torque[0,i-1] # Se calcula la derivada de los estados a través de la primera ecuación del\n",
    "                                 # state-space    \n",
    "    x[:,i:i+1] = x[:,i-1:i] + xp*dt # Forward Euler como integrador\n",
    "    \n",
    "# Se dibuja la respuesta en el tiempo de simulación    \n",
    "\n",
    "t = timevec\n",
    "y = x[0,:]*(180/np.pi)\n",
    "fig = plt.figure()\n",
    "ax = fig.add_axes([0,0,1,1])\n",
    "ax.plot(t,y)\n",
    "ax.set_title(\"Evolución del ángulo de Roll en la simulación\")\n",
    "ax.set_xlabel('Time')\n",
    "ax.set_ylabel(r'$\\phi$ (deg)')\n",
    "    "
   ]
  },
  {
   "cell_type": "markdown",
   "metadata": {},
   "source": [
    "Se comprueba como varía el ángulo de dirección a lo largo de la maniobra:"
   ]
  },
  {
   "cell_type": "code",
   "execution_count": 26,
   "metadata": {
    "tags": []
   },
   "outputs": [
    {
     "data": {
      "text/plain": [
       "Text(0, 0.5, '$\\\\delta$ ($\\\\degree$)')"
      ]
     },
     "execution_count": 26,
     "metadata": {},
     "output_type": "execute_result"
    },
    {
     "data": {
      "image/png": "[encoded data removed]",
      "text/plain": [
       "<Figure size 432x288 with 1 Axes>"
      ]
     },
     "metadata": {
      "needs_background": "light"
     },
     "output_type": "display_data"
    }
   ],
   "source": [
    "t = timevec\n",
    "y = x[1,:]*(180/np.pi)\n",
    "fig = plt.figure()\n",
    "ax = fig.add_axes([0,0,1,1])\n",
    "ax.plot(t,y)\n",
    "ax.set_title(\"Evolución del ángulo de dirección en la simulación\")\n",
    "ax.set_xlabel('Time')\n",
    "ax.set_ylabel(r'$\\delta$ ($\\degree$)')\n",
    "    "
   ]
  },
  {
   "cell_type": "markdown",
   "metadata": {},
   "source": [
    "Se comprueba como son las velocidades de ángulo de dirección a lo largo de la maniobra:"
   ]
  },
  {
   "cell_type": "code",
   "execution_count": 27,
   "metadata": {
    "jupyter": {
     "source_hidden": true
    },
    "tags": []
   },
   "outputs": [
    {
     "data": {
      "text/plain": [
       "Text(0, 0.5, '$\\\\dot{\\\\delta}$($\\\\degree$/s)')"
      ]
     },
     "execution_count": 27,
     "metadata": {},
     "output_type": "execute_result"
    },
    {
     "data": {
      "image/png": "[encoded data removed]",
      "text/plain": [
       "<Figure size 432x288 with 1 Axes>"
      ]
     },
     "metadata": {
      "needs_background": "light"
     },
     "output_type": "display_data"
    }
   ],
   "source": [
    "from matplotlib import pyplot as plt\n",
    "import numpy as np\n",
    "import numpy as np\n",
    "t = timevec\n",
    "y = x[3,:]*(180/np.pi)\n",
    "fig = plt.figure()\n",
    "ax = fig.add_axes([0,0,1,1])\n",
    "ax.plot(t,y)\n",
    "ax.set_title(\"Evolución de la velocidad del Ángulo de Dirección en la simulación\")\n",
    "ax.set_xlabel('Time')\n",
    "ax.set_ylabel('$\\dot{\\delta}$($\\degree$/s)')"
   ]
  },
  {
   "cell_type": "markdown",
   "metadata": {},
   "source": [
    "Se comprueba el valor de las entradas calculadas por el controlador a lo largo de la maniobra:"
   ]
  },
  {
   "cell_type": "code",
   "execution_count": 28,
   "metadata": {
    "jupyter": {
     "source_hidden": true
    },
    "tags": []
   },
   "outputs": [
    {
     "ename": "IndexError",
     "evalue": "too many indices for array: array is 1-dimensional, but 2 were indexed",
     "output_type": "error",
     "traceback": [
      "\u001b[1;31m---------------------------------------------------------------------------\u001b[0m",
      "\u001b[1;31mIndexError\u001b[0m                                Traceback (most recent call last)",
      "\u001b[1;32m<ipython-input-28-6b1a0e15821f>\u001b[0m in \u001b[0;36m<module>\u001b[1;34m\u001b[0m\n\u001b[0;32m      2\u001b[0m \u001b[1;32mimport\u001b[0m \u001b[0mnumpy\u001b[0m \u001b[1;32mas\u001b[0m \u001b[0mnp\u001b[0m\u001b[1;33m\u001b[0m\u001b[1;33m\u001b[0m\u001b[0m\n\u001b[0;32m      3\u001b[0m \u001b[0mt\u001b[0m \u001b[1;33m=\u001b[0m \u001b[0mtimevec\u001b[0m\u001b[1;33m\u001b[0m\u001b[1;33m\u001b[0m\u001b[0m\n\u001b[1;32m----> 4\u001b[1;33m \u001b[0my\u001b[0m \u001b[1;33m=\u001b[0m \u001b[0mu_vel\u001b[0m\u001b[1;33m[\u001b[0m\u001b[1;36m0\u001b[0m\u001b[1;33m,\u001b[0m\u001b[1;33m:\u001b[0m\u001b[1;33m]\u001b[0m\u001b[1;33m\u001b[0m\u001b[1;33m\u001b[0m\u001b[0m\n\u001b[0m\u001b[0;32m      5\u001b[0m \u001b[0mfig\u001b[0m \u001b[1;33m=\u001b[0m \u001b[0mplt\u001b[0m\u001b[1;33m.\u001b[0m\u001b[0mfigure\u001b[0m\u001b[1;33m(\u001b[0m\u001b[1;33m)\u001b[0m\u001b[1;33m\u001b[0m\u001b[1;33m\u001b[0m\u001b[0m\n\u001b[0;32m      6\u001b[0m \u001b[0max\u001b[0m \u001b[1;33m=\u001b[0m \u001b[0mfig\u001b[0m\u001b[1;33m.\u001b[0m\u001b[0madd_axes\u001b[0m\u001b[1;33m(\u001b[0m\u001b[1;33m[\u001b[0m\u001b[1;36m0\u001b[0m\u001b[1;33m,\u001b[0m\u001b[1;36m0\u001b[0m\u001b[1;33m,\u001b[0m\u001b[1;36m1\u001b[0m\u001b[1;33m,\u001b[0m\u001b[1;36m1\u001b[0m\u001b[1;33m]\u001b[0m\u001b[1;33m)\u001b[0m\u001b[1;33m\u001b[0m\u001b[1;33m\u001b[0m\u001b[0m\n",
      "\u001b[1;31mIndexError\u001b[0m: too many indices for array: array is 1-dimensional, but 2 were indexed"
     ]
    }
   ],
   "source": [
    "from matplotlib import pyplot as plt\n",
    "import numpy as np\n",
    "t = timevec\n",
    "y = u_vel[0,:]\n",
    "fig = plt.figure()\n",
    "ax = fig.add_axes([0,0,1,1])\n",
    "ax.plot(t,y)\n",
    "ax.set_title(\"Evolución de la entrada calculada por el controlador en la simulación\")\n",
    "ax.set_xlabel('Time')\n",
    "ax.set_ylabel('$\\dot{\\delta}$($\\degree$/s)')"
   ]
  },
  {
   "cell_type": "markdown",
   "metadata": {},
   "source": [
    "Se comprueba el par necesario a lo largo de la maniobra:"
   ]
  },
  {
   "cell_type": "code",
   "execution_count": null,
   "metadata": {
    "jupyter": {
     "source_hidden": true
    },
    "tags": []
   },
   "outputs": [],
   "source": [
    "from matplotlib import pyplot as plt\n",
    "import numpy as np\n",
    "t = timevec\n",
    "y = u_torque[0,:]\n",
    "fig = plt.figure()\n",
    "ax = fig.add_axes([0,0,1,1])\n",
    "ax.plot(t,y)\n",
    "ax.set_title(\"Evolución del par en la simulación\")\n",
    "ax.set_xlabel('Time')\n",
    "ax.set_ylabel('T (Nm)')"
   ]
  },
  {
   "cell_type": "markdown",
   "metadata": {},
   "source": [
    "Se comprueba la potencia que el motor debe proporcinar a lo largo de la maniobra:"
   ]
  },
  {
   "cell_type": "code",
   "execution_count": null,
   "metadata": {
    "jupyter": {
     "source_hidden": true
    },
    "tags": []
   },
   "outputs": [],
   "source": [
    "from matplotlib import pyplot as plt\n",
    "import numpy as np\n",
    "t = timevec\n",
    "# Potencia necesaria a lo largo de la simulación\n",
    "y = abs(x[3,:]*u_torque[0,:])\n",
    "fig = plt.figure()\n",
    "ax = fig.add_axes([0,0,1,1])\n",
    "ax.plot(t,y)\n",
    "ax.set_title(\"Evolución de la potencia en la simulación\")\n",
    "ax.set_xlabel('Time')\n",
    "ax.set_ylabel('P (W)')"
   ]
  },
  {
   "cell_type": "markdown",
   "metadata": {},
   "source": [
    "Se ajuntan las curvas de Velocidad de ángulo de dirección, Par motor y Potencia del motor juntas."
   ]
  },
  {
   "cell_type": "code",
   "execution_count": 72,
   "metadata": {
    "jupyter": {
     "source_hidden": true
    },
    "tags": []
   },
   "outputs": [
    {
     "data": {
      "text/plain": [
       "<Figure size 144x144 with 0 Axes>"
      ]
     },
     "metadata": {},
     "output_type": "display_data"
    },
    {
     "data": {
      "image/png": "[encoded data removed]",
      "text/plain": [
       "<Figure size 720x360 with 2 Axes>"
      ]
     },
     "metadata": {
      "needs_background": "light"
     },
     "output_type": "display_data"
    }
   ],
   "source": [
    "import numpy as np\n",
    "import matplotlib.pyplot as plt\n",
    "plt.figure(figsize=(2,2))\n",
    "\n",
    "\n",
    "t = timevec\n",
    "\n",
    "\n",
    "fig, ax1 = plt.subplots(figsize=(10, 5))\n",
    "\n",
    "ax2 = ax1.twinx()\n",
    "ax1.plot(t, x[3,:]*(180/np.pi), 'r-')\n",
    "ax1.plot(t, u_torque[0,:], 'b-')\n",
    "ax2.plot(t,abs(x[3,:]*u_torque[0,:]),'g-')\n",
    "\n",
    "ax1.set_xlabel('Tiempo [s]')\n",
    "ax1.set_ylabel('Velocidad y Par', color='y')\n",
    "ax2.set_ylabel('Potencia [W]', color='b')\n",
    "\n",
    "plt.show()"
   ]
  },
  {
   "cell_type": "markdown",
   "metadata": {
    "tags": []
   },
   "source": [
    "\n",
    "\n",
    "## Funcionamiento a diferentes velocidades\n",
    "\n",
    "Todo lo que se ha hecho hasta ahora ha implicado considerar la velocidad de avance $v$ como un parámetro más del modelo, como la masa o el momento de inercia. Eso quiere decir que las ganancias del controlador que obtengamos estarán optimizadas para funcionar a esa velocidad. En la práctica, lo más probable es que el controlador funcione correctamente en un rango determinado de velocidades, pero si nos alejamos mucho de $v$, empezará a fallar. Una forma de comprobar la sensibilidad del sistema es calcular las ganancias para diferentes velocidades: cuanto menos varíen las ganancias al cambiar la velocidad, más robusto será el controlador.\n",
    "\n",
    "Si la variabilidad de ganancias es alta y se quiere un controlador que pueda funcionar a diferentes velocidades, habrá que calcular varios vectores de ganancias $\\mathbf K_i$, de modo que cada uno tendrá validez en un rango de velocidades. Incluso se puede estudiar la variación de las ganancias en función de la velocidad, e implementar alguna estrategia de interpolación."
   ]
  },
  {
   "cell_type": "markdown",
   "metadata": {},
   "source": [
    "# Bibliografía\n",
    "[1] Ogata, K. *Modern Control Engineering, 5th Ed.*, Pearson, 2010   \n",
    "[2] Williams II, R. L., Lawrence, D. A. *Linear State-Space Control Systems*, John Wiley & Sons, 2007  \n",
    "[3] Hespanha, J. P. *Linear Systems Theory, 2nd Ed.*, Princeton University Press, 2018  \n",
    "[4] Åström, K. J., Murray, R. M., [*Feedback Systems*](http://www.cds.caltech.edu/~murray/amwiki/index.php), Princeton University Press, 2008  \n",
    "[5] Messner, B. et al. [*Control Tutorials for Matlab and Simulink*](http://ctms.engin.umich.edu)  \n",
    "[6] Meijaard, J.P. et al. *Linearized dynamics equations for the balance and steer of a bicycle: a benchmark and review*. Proc. R. Soc. A. 463 1955–1982, 2007. "
   ]
  },
  {
   "cell_type": "markdown",
   "metadata": {},
   "source": [
    "# Acerca de este documento\n",
    "Autor: Urbano Lugrís Armesto  \n",
    "\n",
    "Adaptado por Emilio Sanjurjo, Pablo Rubial, Eduardo Sobrino y Santiago Blanco\n",
    "\n",
    "[Laboratorio de Ingeniería Mecánica](http://lim.ii.udc.es/)  \n",
    "[Escuela Politécnica Superior](https://eps.udc.es/)  \n",
    "[Universidad de A Coruña](https://www.udc.es/)  \n",
    "\n",
    "Este documento pertenece a la asignaturas *Proyecto Interdisciplinar I* y *Proyecto Interdisciplinar II*, de cuarto curso de los Grados en Ingeniería Mecánica e Ingeniería en Tecnologías Industriales, impartidos en la Escuela Politécnica Superior de la Universidad de A Coruña."
   ]
  }
 ],
 "metadata": {
  "kernelspec": {
   "display_name": "Python 3",
   "language": "python",
   "name": "python3"
  },
  "language_info": {
   "codemirror_mode": {
    "name": "ipython",
    "version": 3
   },
   "file_extension": ".py",
   "mimetype": "text/x-python",
   "name": "python",
   "nbconvert_exporter": "python",
   "pygments_lexer": "ipython3",
   "version": "3.8.8"
  }
 },
 "nbformat": 4,
 "nbformat_minor": 4
}
